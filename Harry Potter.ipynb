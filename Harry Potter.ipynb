{
 "cells": [
  {
   "cell_type": "code",
   "execution_count": 30,
   "id": "dadad0d1-bee4-42c7-ba59-a445c3f76181",
   "metadata": {},
   "outputs": [
    {
     "name": "stdout",
     "output_type": "stream",
     "text": [
      "['Mozzerla', 'Cinderella', 'Salmonella']\n"
     ]
    }
   ],
   "source": [
    "things = [\"Mozzerla\", \"Cinderella\", \"Salmonella\"]\n",
    "\n",
    "for i in range(len(things)):\n",
    "   if isinstance(things[i], str) and things[i][0].isupper():\n",
    "       things[i] = things[i].capitalize()\n",
    "\n",
    "print(things)"
   ]
  },
  {
   "cell_type": "code",
   "execution_count": 31,
   "id": "dc59d2c9-4d43-4790-a4ea-0e53e3cabac9",
   "metadata": {},
   "outputs": [],
   "source": [
    "def good():\n",
    "  list_1 = ['Harry', 'Ron', 'Hermione']\n",
    "  return list_1"
   ]
  },
  {
   "cell_type": "code",
   "execution_count": 32,
   "id": "657f0f1c-e543-4757-bde5-f9fe00de4f26",
   "metadata": {},
   "outputs": [
    {
     "name": "stdout",
     "output_type": "stream",
     "text": [
      "5\n"
     ]
    }
   ],
   "source": [
    "def get_odds():\n",
    "    for num in range(10):\n",
    "        if num % 2 != 0:\n",
    "            yield num\n",
    "\n",
    "# Use the generator function in a for loop\n",
    "count = 0\n",
    "for num in get_odds():\n",
    "    if count == 2:\n",
    "        print(num)\n",
    "        break\n",
    "    count += 1"
   ]
  }
 ],
 "metadata": {
  "kernelspec": {
   "display_name": "Python 3 (ipykernel)",
   "language": "python",
   "name": "python3"
  },
  "language_info": {
   "codemirror_mode": {
    "name": "ipython",
    "version": 3
   },
   "file_extension": ".py",
   "mimetype": "text/x-python",
   "name": "python",
   "nbconvert_exporter": "python",
   "pygments_lexer": "ipython3",
   "version": "3.12.4"
  }
 },
 "nbformat": 4,
 "nbformat_minor": 5
}
