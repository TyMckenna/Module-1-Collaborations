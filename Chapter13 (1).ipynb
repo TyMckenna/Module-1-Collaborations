{
 "cells": [
  {
   "cell_type": "code",
   "execution_count": 29,
   "id": "8f0f46a7-941c-435b-b8dc-eccf697c96d4",
   "metadata": {},
   "outputs": [],
   "source": [
    "from datetime import datetime\n",
    "current_date = datetime.now().strftime('%Y-%m-%d')\n",
    "with open('today.txt', 'w') as file:\n",
    "    file.write(current_date)\n"
   ]
  },
  {
   "cell_type": "code",
   "execution_count": null,
   "id": "9f0056e4-0f8d-458a-b94a-35c1a9796231",
   "metadata": {},
   "outputs": [],
   "source": [
    "with open('today.txt', 'r') as file:\n",
    "    today_string = file.read()"
   ]
  },
  {
   "cell_type": "code",
   "execution_count": null,
   "id": "51fb440c-f600-42a9-8fdf-611391fbebf1",
   "metadata": {},
   "outputs": [],
   "source": [
    "parsed_date = datetime.strptime(today_string, '%Y-%m-%d')"
   ]
  },
  {
   "cell_type": "code",
   "execution_count": 17,
   "id": "79c4b057-2f33-4558-8681-ac5c7eedb73e",
   "metadata": {},
   "outputs": [
    {
     "name": "stdout",
     "output_type": "stream",
     "text": [
      "Today's date and time is 2024-09-29 16:05:02.092258\n",
      "Today's date and time is 2024-09-29 16:05:02.514173\n",
      "Today's date and time is 2024-09-29 16:05:02.943254\n",
      "Completed\n"
     ]
    }
   ],
   "source": [
    "import multiprocessing\n",
    "from datetime import datetime\n",
    "import time\n",
    "import random\n",
    "\n",
    "\n",
    "def print_time():\n",
    "    now = datetime.now()\n",
    "    print(\"Today's date and time is {}\".format(now))\n",
    "    time.sleep(random.random())\n",
    "\n",
    "\n",
    "if __name__ == '__main__':\n",
    "    proc1 = multiprocessing.Process(target=print_time())\n",
    "    proc2 = multiprocessing.Process(target=print_time())\n",
    "    proc3 = multiprocessing.Process(target=print_time())\n",
    "    proc1.start()\n",
    "    proc2.start()\n",
    "    proc3.start()\n",
    "    proc1.join()\n",
    "    proc2.join()\n",
    "    proc3.join()\n",
    "\n",
    "    print('Completed')"
   ]
  },
  {
   "cell_type": "code",
   "execution_count": null,
   "id": "9b475464-d625-487c-ad4e-a67e100fabe2",
   "metadata": {},
   "outputs": [],
   "source": []
  }
 ],
 "metadata": {
  "kernelspec": {
   "display_name": "Python 3 (ipykernel)",
   "language": "python",
   "name": "python3"
  },
  "language_info": {
   "codemirror_mode": {
    "name": "ipython",
    "version": 3
   },
   "file_extension": ".py",
   "mimetype": "text/x-python",
   "name": "python",
   "nbconvert_exporter": "python",
   "pygments_lexer": "ipython3",
   "version": "3.12.4"
  }
 },
 "nbformat": 4,
 "nbformat_minor": 5
}
