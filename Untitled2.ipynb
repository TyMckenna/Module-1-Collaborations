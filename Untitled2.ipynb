{
 "cells": [
  {
   "cell_type": "code",
   "execution_count": 15,
   "id": "67b0589d-03b1-406f-b31c-be502645ede9",
   "metadata": {},
   "outputs": [],
   "source": [
    "class Solution:\n",
    "    # Function to sort an array of 0s, 1s, and 2s\n",
    "    def sort012(self, arr):\n",
    "        low = 0\n",
    "        mid = 0\n",
    "        high = len(arr) - 1\n",
    "        \n",
    "        # Traverse through the array\n",
    "        while mid <= high:\n",
    "            if arr[mid] == 0:\n",
    "                arr[low], arr[mid] = arr[mid], arr[low]\n",
    "                low += 1\n",
    "                mid += 1\n",
    "            elif arr[mid] == 1:\n",
    "                mid += 1\n",
    "            else: # arr[mid] == 2\n",
    "                arr[high], arr[mid] = arr[mid], arr[high]\n",
    "                high -= 1\n"
   ]
  },
  {
   "cell_type": "code",
   "execution_count": 11,
   "id": "67246e10-2e48-49bd-8eb5-e35ff9d2d596",
   "metadata": {},
   "outputs": [
    {
     "name": "stdout",
     "output_type": "stream",
     "text": [
      "Found At Index 0\n",
      "Found At Index 4\n",
      "Not Found\n"
     ]
    }
   ],
   "source": [
    "def binarySearch(v, To_Find):\n",
    "    lo = 0\n",
    "    hi = len(v) - 1\n",
    "\n",
    "    # This below check covers all cases , so need to check\n",
    "    # for mid=lo-(hi-lo)/2\n",
    "    while hi - lo > 1:\n",
    "        mid = (hi + lo) // 2\n",
    "        if v[mid] < To_Find:\n",
    "            lo = mid + 1\n",
    "        else:\n",
    "            hi = mid\n",
    "\n",
    "    if v[lo] == To_Find:\n",
    "        print(\"Found At Index\", lo)\n",
    "    elif v[hi] == To_Find:\n",
    "        print(\"Found At Index\", hi)\n",
    "    else:\n",
    "        print(\"Not Found\")\n",
    "\n",
    "\n",
    "if __name__ == '__main__':\n",
    "    v = [1, 3, 4, 5, 6]\n",
    "\n",
    "    To_Find = 1\n",
    "    binarySearch(v, To_Find)\n",
    "\n",
    "    To_Find = 6\n",
    "    binarySearch(v, To_Find)\n",
    "\n",
    "    To_Find = 10\n",
    "    binarySearch(v, To_Find)"
   ]
  }
 ],
 "metadata": {
  "kernelspec": {
   "display_name": "Python 3 (ipykernel)",
   "language": "python",
   "name": "python3"
  },
  "language_info": {
   "codemirror_mode": {
    "name": "ipython",
    "version": 3
   },
   "file_extension": ".py",
   "mimetype": "text/x-python",
   "name": "python",
   "nbconvert_exporter": "python",
   "pygments_lexer": "ipython3",
   "version": "3.12.4"
  }
 },
 "nbformat": 4,
 "nbformat_minor": 5
}
