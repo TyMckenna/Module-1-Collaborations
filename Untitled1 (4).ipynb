{
 "cells": [
  {
   "cell_type": "code",
   "execution_count": null,
   "id": "baf43826-6e6e-47c6-aa55-27c179e9680a",
   "metadata": {},
   "outputs": [],
   "source": [
    "secret= 5\n",
    "guess= 3\n",
    "if secret == guess:\n",
    "    print(\"just right\")\n",
    "elif secret < guess:\n",
    "    print(\"to low\")\n",
    "else:\n",
    "    print(\"to high\")"
   ]
  },
  {
   "cell_type": "code",
   "execution_count": null,
   "id": "3b25835d-0ce2-43a1-bcb8-de336bcb0c73",
   "metadata": {},
   "outputs": [],
   "source": [
    "small= true \n",
    "green = false\n",
    "if green:\n",
    "        print(\"pea\")\n",
    "else:\n",
    "        print(\"cherry\")\n",
    "else:\n",
    " if green:\n",
    "         print(\"watermellon\")\n",
    "else:\n",
    "        print(\"pumpkin\")"
   ]
  },
  {
   "cell_type": "code",
   "execution_count": null,
   "id": "c3b5552f-be9d-4167-8c9a-1b78f9708fde",
   "metadata": {},
   "outputs": [],
   "source": [
    "numbers = [3, 2, 1, 0]\n",
    "for num in numbers:\n",
    "    print(num)"
   ]
  },
  {
   "cell_type": "code",
   "execution_count": null,
   "id": "dfc8b49e-8156-4505-b997-ea25121aae1d",
   "metadata": {},
   "outputs": [],
   "source": [
    "guess_me = 7\n",
    "start = 1\n",
    "\n",
    "while True:\n",
    "    if start < guess_me:\n",
    "        print('too low')\n",
    "    elif start == guess_me:\n",
    "        print('found it!')\n",
    "        break\n",
    "    else:\n",
    "        print('oops')\n",
    "        break\n",
    "    start += 1"
   ]
  },
  {
   "cell_type": "code",
   "execution_count": null,
   "id": "8c016207-7364-4912-8551-4b059830e49c",
   "metadata": {},
   "outputs": [],
   "source": []
  }
 ],
 "metadata": {
  "kernelspec": {
   "display_name": "Python 3 (ipykernel)",
   "language": "python",
   "name": "python3"
  },
  "language_info": {
   "codemirror_mode": {
    "name": "ipython",
    "version": 3
   },
   "file_extension": ".py",
   "mimetype": "text/x-python",
   "name": "python",
   "nbconvert_exporter": "python",
   "pygments_lexer": "ipython3",
   "version": "3.12.4"
  }
 },
 "nbformat": 4,
 "nbformat_minor": 5
}
